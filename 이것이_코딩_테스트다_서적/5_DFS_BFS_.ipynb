{
  "nbformat": 4,
  "nbformat_minor": 0,
  "metadata": {
    "colab": {
      "name": "5 DFS/BFS .ipynb",
      "provenance": [],
      "collapsed_sections": [],
      "authorship_tag": "ABX9TyODLgVDPdwPPdIQTf5vUtIV",
      "include_colab_link": true
    },
    "kernelspec": {
      "name": "python3",
      "display_name": "Python 3"
    },
    "language_info": {
      "name": "python"
    }
  },
  "cells": [
    {
      "cell_type": "markdown",
      "metadata": {
        "id": "view-in-github",
        "colab_type": "text"
      },
      "source": [
        "<a href=\"https://colab.research.google.com/github/ins2847/CT/blob/main/%EC%9D%B4%EA%B2%83%EC%9D%B4_%EC%BD%94%EB%94%A9_%ED%85%8C%EC%8A%A4%ED%8A%B8%EB%8B%A4_%EC%84%9C%EC%A0%81/5_DFS_BFS_.ipynb\" target=\"_parent\"><img src=\"https://colab.research.google.com/assets/colab-badge.svg\" alt=\"Open In Colab\"/></a>"
      ]
    },
    {
      "cell_type": "markdown",
      "metadata": {
        "id": "ZXGn1Xej117e"
      },
      "source": [
        "5-1 꼭 필요한 자료구조 기초\n",
        "\n",
        "탐색 : 많은 양의 데이터 중에서 원하는 데이터를 찾는 과정\n",
        "자료구조 : 데이터를 표현하고 관리하고 처리하기 위한 구조\n",
        "\n",
        "push : 데이터 넣기\n",
        "pop : 데이터 삭제\n",
        "\n",
        "오버플로\n",
        " 특정한 자료구조가 수용할 수 있는 데이터의 크기를 이미 가득 찬 상태에서 삽입 연산을 수행할 때 발생\n",
        "\n",
        " 언더플로 \n",
        " 특정한 자료구조에 데이터가 전형 들어 있지 않은 상태에서 삭제 연산을 수행할 때 발생\n"
      ]
    },
    {
      "cell_type": "markdown",
      "metadata": {
        "id": "YNF2pzwL3kiT"
      },
      "source": [
        "### 스택\n",
        "\n",
        "박스 쌓기에 비유하고, 박스 아래부터 위로 쌓으며 위에있는 박스를 먼저 내려\n",
        "선입후출 FILO (First In Last Out) 또는\n",
        "후입선출 이라 한다."
      ]
    },
    {
      "cell_type": "markdown",
      "metadata": {
        "id": "dJ5gT_f7Ojau"
      },
      "source": [
        "#### 5-1 스택 예제"
      ]
    },
    {
      "cell_type": "code",
      "metadata": {
        "colab": {
          "base_uri": "https://localhost:8080/"
        },
        "id": "SpQj5rf1OjdY",
        "outputId": "138618e2-f66f-413b-8db4-9c15032fcab0"
      },
      "source": [
        "stack=[]\n",
        "\n",
        "stack.append(5)\n",
        "stack.append(2)\n",
        "stack.append(3)\n",
        "stack.append(7)\n",
        "stack.pop()\n",
        "stack.append(1)\n",
        "stack.append(4)\n",
        "stack.pop()"
      ],
      "execution_count": 3,
      "outputs": [
        {
          "output_type": "execute_result",
          "data": {
            "text/plain": [
              "4"
            ]
          },
          "metadata": {},
          "execution_count": 3
        }
      ]
    },
    {
      "cell_type": "code",
      "metadata": {
        "colab": {
          "base_uri": "https://localhost:8080/"
        },
        "id": "lv11nrarOjfh",
        "outputId": "7bfc23bc-0490-481c-8b83-87b380c30218"
      },
      "source": [
        "print(stack)\n",
        "print(stack[::-1])"
      ],
      "execution_count": 4,
      "outputs": [
        {
          "output_type": "stream",
          "name": "stdout",
          "text": [
            "[5, 2, 3, 1]\n",
            "[1, 3, 2, 5]\n"
          ]
        }
      ]
    },
    {
      "cell_type": "markdown",
      "metadata": {
        "id": "PTGgYaG1OkD-"
      },
      "source": [
        "### 큐\n",
        "큐는 대기 줄에 비유할 수 있다.\n",
        "나중에 온 사람일수록 나중에 들어가기 때문에 '공정한' 자료구조라고 비유된다. \n",
        "\n",
        "이러한 구조를 선입선출(FIFO : first in first out)구조 라고한다."
      ]
    },
    {
      "cell_type": "code",
      "metadata": {
        "colab": {
          "base_uri": "https://localhost:8080/"
        },
        "id": "5FZH_qmTOj_r",
        "outputId": "b6366174-b296-4d7e-da71-98207152c1a0"
      },
      "source": [
        "from collections import deque\n",
        "\n",
        "queue=deque()\n",
        "queue.append(5)\n",
        "queue.append(2)\n",
        "queue.append(3)\n",
        "queue.append(7)\n",
        "queue.popleft()\n",
        "queue.append(1)\n",
        "queue.append(4)\n",
        "queue.popleft()\n",
        "\n",
        "\n",
        "\n"
      ],
      "execution_count": 9,
      "outputs": [
        {
          "output_type": "execute_result",
          "data": {
            "text/plain": [
              "2"
            ]
          },
          "metadata": {},
          "execution_count": 9
        }
      ]
    },
    {
      "cell_type": "code",
      "metadata": {
        "colab": {
          "base_uri": "https://localhost:8080/"
        },
        "id": "yK7afofQOj7M",
        "outputId": "bb8b0f2b-5945-4f5c-f558-e2f80b2849f9"
      },
      "source": [
        "print(queue)\n",
        "queue.reverse()\n",
        "print(queue)"
      ],
      "execution_count": 14,
      "outputs": [
        {
          "output_type": "stream",
          "name": "stdout",
          "text": [
            "deque([4, 1, 7, 3])\n",
            "deque([3, 7, 1, 4])\n"
          ]
        }
      ]
    },
    {
      "cell_type": "code",
      "metadata": {
        "colab": {
          "base_uri": "https://localhost:8080/"
        },
        "id": "RYZDlhK3Oj2z",
        "outputId": "150ef748-ee24-44dc-9f48-59857e069ab0"
      },
      "source": [
        ""
      ],
      "execution_count": 7,
      "outputs": [
        {
          "output_type": "execute_result",
          "data": {
            "text/plain": [
              "5"
            ]
          },
          "metadata": {},
          "execution_count": 7
        }
      ]
    },
    {
      "cell_type": "code",
      "metadata": {
        "id": "BQzNSrCTOjxk"
      },
      "source": [
        ""
      ],
      "execution_count": null,
      "outputs": []
    },
    {
      "cell_type": "code",
      "metadata": {
        "id": "QBs2VnCCOjrg"
      },
      "source": [
        ""
      ],
      "execution_count": null,
      "outputs": []
    },
    {
      "cell_type": "code",
      "metadata": {
        "id": "0ZsFfxDlOjhX"
      },
      "source": [
        ""
      ],
      "execution_count": null,
      "outputs": []
    }
  ]
}