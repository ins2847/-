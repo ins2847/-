{
  "nbformat": 4,
  "nbformat_minor": 0,
  "metadata": {
    "colab": {
      "name": "CT.ipynb",
      "provenance": [],
<<<<<<< HEAD
      "collapsed_sections": []
=======
      "collapsed_sections": [],
      "authorship_tag": "ABX9TyMZXLYKk/K9D4JQosVt+/7d",
      "include_colab_link": true
>>>>>>> 1963652acc621747ebd3d2d90268c92a44eb2bb1
    },
    "kernelspec": {
      "name": "python3",
      "display_name": "Python 3"
    },
    "language_info": {
      "name": "python"
    }
  },
  "cells": [
    {
      "cell_type": "markdown",
      "metadata": {
<<<<<<< HEAD
=======
        "id": "view-in-github",
        "colab_type": "text"
      },
      "source": [
        "<a href=\"https://colab.research.google.com/github/ins2847/CT/blob/main/Python%20100%EC%84%A0%20CD/CT.ipynb\" target=\"_parent\"><img src=\"https://colab.research.google.com/assets/colab-badge.svg\" alt=\"Open In Colab\"/></a>"
      ]
    },
    {
      "cell_type": "markdown",
      "metadata": {
>>>>>>> 1963652acc621747ebd3d2d90268c92a44eb2bb1
        "id": "wINiHXYSSqk8"
      },
      "source": [
        "##Problem 6027\n",
        "\n",
        "10진 정수 입력받아 16진수(hexadecimal)로 출력하기"
      ]
    },
    {
      "cell_type": "code",
      "metadata": {
        "colab": {
          "base_uri": "https://localhost:8080/"
        },
        "id": "Nv286p9NS7pc",
        "outputId": "fe0877a6-3543-4f77-884f-e055966313ec"
      },
      "source": [
        "a=input()\n",
        "n=int(a)\n",
        "print('%x'%n)\n",
        "#11은 b와같다"
      ],
      "execution_count": null,
      "outputs": [
        {
          "output_type": "stream",
          "name": "stdout",
          "text": [
            "11\n",
            "b\n"
          ]
        }
      ]
    },
    {
      "cell_type": "markdown",
      "metadata": {
        "id": "zUI702eBS8Yk"
      },
      "source": [
        "## Problem 6028\n",
        "\n",
        "10진 정수 입력받아 16진수(hexadecimal)로 출력하기 (대문자)"
      ]
    },
    {
      "cell_type": "code",
      "metadata": {
        "colab": {
          "base_uri": "https://localhost:8080/"
        },
        "id": "iHakosq7S8gN",
        "outputId": "7e218112-ce18-461c-bb82-8806b6a10f28"
      },
      "source": [
        "a=input()\n",
        "a=int(a)\n",
        "print('%X'%a)\n",
        "#255->FF"
      ],
      "execution_count": null,
      "outputs": [
        {
          "output_type": "stream",
          "name": "stdout",
          "text": [
            "255\n",
            "FF\n"
          ]
        }
      ]
    },
    {
      "cell_type": "markdown",
      "metadata": {
        "id": "_9ME3vc9S8l1"
      },
      "source": [
        "##Problem 6029\n",
        "\n",
        "16진수 정수 입력받아 8진수(octal)로 출력하기"
      ]
    },
    {
      "cell_type": "code",
      "metadata": {
        "colab": {
          "base_uri": "https://localhost:8080/"
        },
        "id": "1yrEMiZFTnq2",
        "outputId": "e0ba0444-eb93-47ac-d05a-0bc1f7a67fe2"
      },
      "source": [
        "a=input()\n",
        "n=int(a,16)\n",
        "print('%o'%n)\n",
        "#f-17"
      ],
      "execution_count": null,
      "outputs": [
        {
          "output_type": "stream",
          "name": "stdout",
          "text": [
            "f\n",
            "17\n"
          ]
        }
      ]
    },
    {
      "cell_type": "markdown",
      "metadata": {
        "id": "ojzJZV5zTnxC"
      },
      "source": [
        "## Problem 6030\n",
        "\n",
        "영문자 1개 입력받아 10진수로 변환하기"
      ]
    },
    {
      "cell_type": "code",
      "metadata": {
        "id": "RcQr9VNITn1s",
        "colab": {
          "base_uri": "https://localhost:8080/"
        },
        "outputId": "29156146-ae08-45b8-9e71-1b827c845170"
      },
      "source": [
        "a=input()\n",
        "a=ord(a)\n",
        "print(a)\n",
        "#A->65"
      ],
      "execution_count": null,
      "outputs": [
        {
          "output_type": "stream",
          "name": "stdout",
          "text": [
            "A\n",
            "65\n"
          ]
        }
      ]
    },
    {
      "cell_type": "markdown",
      "metadata": {
        "id": "p__FS1ngTn5l"
      },
      "source": [
        "## Problem 6031\n",
        "\n",
        "정수 입력받아 유니코드 문자로 변환하기"
      ]
    },
    {
      "cell_type": "code",
      "metadata": {
        "id": "uDE4x5-VTn9U",
        "colab": {
          "base_uri": "https://localhost:8080/"
        },
        "outputId": "edd914f7-01a2-46bf-fc2b-2c4744345592"
      },
      "source": [
        "c= int(input())\n",
        "print(chr(c))\n",
        "#65->A"
      ],
      "execution_count": null,
      "outputs": [
        {
          "output_type": "stream",
          "name": "stdout",
          "text": [
            "65\n",
            "A\n"
          ]
        }
      ]
    },
    {
      "cell_type": "markdown",
      "metadata": {
        "id": "cf5ZyYS5ToAi"
      },
      "source": [
        "## Problem 6032\n",
        "\n",
        "정수 1개 입력받아 부호 바꾸기"
      ]
    },
    {
      "cell_type": "code",
      "metadata": {
        "id": "gpn05T1jToDa",
        "colab": {
          "base_uri": "https://localhost:8080/"
        },
        "outputId": "1764957e-08f4-4f44-bf43-6a53ae2205f9"
      },
      "source": [
        "n=int(input())\n",
        "print(-n)"
      ],
      "execution_count": null,
      "outputs": [
        {
          "output_type": "stream",
          "name": "stdout",
          "text": [
            "20\n",
            "-20\n"
          ]
        }
      ]
    },
    {
      "cell_type": "markdown",
      "metadata": {
        "id": "uYbn4nQVToGj"
      },
      "source": [
        "## Problem 6033\n",
        "\n",
        "문자 1개 입력받아 다음문자 출력하기"
      ]
    },
    {
      "cell_type": "code",
      "metadata": {
        "id": "7Zcrn7OWToME",
        "colab": {
          "base_uri": "https://localhost:8080/"
        },
        "outputId": "132cd3fe-128e-4c10-c5ae-a0f2ff7f0473"
      },
      "source": [
        "s=ord(input())\n",
        "print(chr(s+1))"
      ],
      "execution_count": null,
      "outputs": [
        {
          "output_type": "stream",
          "name": "stdout",
          "text": [
            "a\n",
            "b\n"
          ]
        }
      ]
    },
    {
      "cell_type": "markdown",
      "metadata": {
        "id": "sULFU1J6ToRC"
      },
      "source": [
        "##Problem 6034\n",
        "\n",
        "정수 2개를 입력받아 차 계산하기"
      ]
    },
    {
      "cell_type": "code",
      "metadata": {
        "colab": {
          "base_uri": "https://localhost:8080/"
        },
        "id": "pIROlE8mZQVG",
        "outputId": "fe1cc98c-4dad-4469-ec95-da82182cd3b3"
      },
      "source": [
        "a,b=input().split()\n",
        "a=int(a)\n",
        "b=int(b)\n",
        "print(a-b)"
      ],
      "execution_count": null,
      "outputs": [
        {
          "output_type": "stream",
          "name": "stdout",
          "text": [
            "3 5\n",
            "-2\n"
          ]
        }
      ]
    },
    {
      "cell_type": "markdown",
      "metadata": {
        "id": "jECVj2s5ToUo"
      },
      "source": [
        "## Problem 6035\n",
        "\n",
        "실수 2개 입력받아 곱 계산하기"
      ]
    },
    {
      "cell_type": "code",
      "metadata": {
        "colab": {
          "base_uri": "https://localhost:8080/"
        },
        "id": "sDq4I14SZk3v",
        "outputId": "c94201a4-bb3d-4e83-cb05-f28e3600eec2"
      },
      "source": [
        "a,b =input().split()\n",
        "a=float(a)\n",
        "b=float(b)\n",
        "print(a*b)"
      ],
      "execution_count": null,
      "outputs": [
        {
          "output_type": "stream",
          "name": "stdout",
          "text": [
            "1.5 1.5\n",
            "2.25\n"
          ]
        }
      ]
    },
    {
      "cell_type": "markdown",
      "metadata": {
        "id": "ypwQ8ojEZfM3"
      },
      "source": [
        "## Problem 6036\n",
        "\n",
        "단어 여러 번 출력하기"
      ]
    },
    {
      "cell_type": "code",
      "metadata": {
        "colab": {
          "base_uri": "https://localhost:8080/"
        },
        "id": "QkqAMkaEZfTt",
        "outputId": "3aca7cf1-3baf-4440-f23e-e055768ae8d1"
      },
      "source": [
        "w,n=input().split()\n",
        "n=int(n)\n",
        "print(w*n)"
      ],
      "execution_count": null,
      "outputs": [
        {
          "output_type": "stream",
          "name": "stdout",
          "text": [
            "hello 3\n",
            "hellohellohello\n"
          ]
        }
      ]
    },
    {
      "cell_type": "markdown",
      "metadata": {
        "id": "6nHzxcMZZfZM"
      },
      "source": [
        "## Problem 6037\n",
        "\n",
        "문장 여러 번 출력하기"
      ]
    },
    {
      "cell_type": "code",
      "metadata": {
        "colab": {
          "base_uri": "https://localhost:8080/"
        },
        "id": "aZd1qmN5Zfd9",
        "outputId": "d0cd6d1b-1e95-4b09-9c30-9deef7989791"
      },
      "source": [
        "n=input()\n",
        "s=input()\n",
        "print(int(n)*s)"
      ],
      "execution_count": null,
      "outputs": [
        {
          "output_type": "stream",
          "name": "stdout",
          "text": [
            "3\n",
            "i love you\n",
            "i love youi love youi love you\n"
          ]
        }
      ]
    },
    {
      "cell_type": "markdown",
      "metadata": {
        "id": "aaBxExtkZfis"
      },
      "source": [
        "## Problem 6038\n",
        "\n",
        "정수 2개 입력받아 거듭제곱 계산하기"
      ]
    },
    {
      "cell_type": "code",
      "metadata": {
        "colab": {
          "base_uri": "https://localhost:8080/"
        },
        "id": "GfDmWELaZfnt",
        "outputId": "0fa75cb1-b310-4394-f4b3-9f2b35ff0761"
      },
      "source": [
        "a,b=input().split()\n",
        "a=int(a)\n",
        "b=int(b)\n",
        "print(a**b)"
      ],
      "execution_count": null,
      "outputs": [
        {
          "output_type": "stream",
          "name": "stdout",
          "text": [
            "3 3\n",
            "27\n"
          ]
        }
      ]
    },
    {
      "cell_type": "markdown",
      "metadata": {
        "id": "EVXxYFkoZfsU"
      },
      "source": [
        "##문제 6039\n",
        "\n",
        "실수 2개 입력받아 거듭제곱 계산하기"
      ]
    },
    {
      "cell_type": "code",
      "metadata": {
        "colab": {
          "base_uri": "https://localhost:8080/"
        },
        "id": "4YjxV1DAZfwm",
        "outputId": "4631c840-d84b-41ae-e8a1-f7e052bf297d"
      },
      "source": [
        "a,b=input().split()\n",
        "a=float(a)\n",
        "b=float(b)\n",
        "print(a**b)"
      ],
      "execution_count": null,
      "outputs": [
        {
          "output_type": "stream",
          "name": "stdout",
          "text": [
            "1.5 1.5\n",
            "1.8371173070873836\n"
          ]
        }
      ]
    },
    {
      "cell_type": "markdown",
      "metadata": {
        "id": "EiSDoZvZbzCG"
      },
      "source": [
        "##문제 6040\n",
        "\n",
        "정수 2개 입력받아 나눈 몫 계산하기"
      ]
    },
    {
      "cell_type": "code",
      "metadata": {
        "colab": {
          "base_uri": "https://localhost:8080/"
        },
        "id": "sEVxtVz5b7h-",
        "outputId": "d3edd568-41d1-4762-820f-5705541d6ad7"
      },
      "source": [
        "a,b=input().split()\n",
        "a=int(a)\n",
        "b=int(b)\n",
        "print(a//b)"
      ],
      "execution_count": null,
      "outputs": [
        {
          "output_type": "stream",
          "name": "stdout",
          "text": [
            "10 3\n",
            "3\n"
          ]
        }
      ]
    },
    {
      "cell_type": "markdown",
      "metadata": {
        "id": "w-0K6NJmbxj1"
      },
      "source": [
        "## 문제 6041\n",
        "\n",
        "정수 2개 입력받아 나눈 나머지 계산하기"
      ]
    },
    {
      "cell_type": "code",
      "metadata": {
        "colab": {
          "base_uri": "https://localhost:8080/"
        },
        "id": "8WjhTXk0b63F",
        "outputId": "7bfd95c5-82c6-4c54-dce8-5cfe4fd7984d"
      },
      "source": [
        "a,b=input().split()\n",
        "a=int(a)\n",
        "b=int(b)\n",
        "print(a%b)"
      ],
      "execution_count": null,
      "outputs": [
        {
          "output_type": "stream",
          "name": "stdout",
          "text": [
            "10 3\n",
            "1\n"
          ]
        }
      ]
    },
    {
      "cell_type": "markdown",
      "metadata": {
        "id": "9cqQbTy0Zf2I"
      },
      "source": [
        "## 문제 6042\n",
        "\n",
        "실수 1개 입력받아 소수점이하자리 변환하기"
      ]
    },
    {
      "cell_type": "code",
      "metadata": {
        "colab": {
          "base_uri": "https://localhost:8080/"
        },
        "id": "RXN9D3GyZf7s",
        "outputId": "6007cb06-5f8d-4618-bd2f-c97c4d2253b8"
      },
      "source": [
        "a=input()\n",
        "a=float(a)\n",
        "print(format(a,\".2f\"))\n",
        "#소수점 두번째 자리까지 반올림 한 값"
      ],
      "execution_count": null,
      "outputs": [
        {
          "output_type": "stream",
          "name": "stdout",
          "text": [
            "3.141592\n",
            "3.14\n"
          ]
        }
      ]
    },
    {
      "cell_type": "markdown",
      "metadata": {
        "id": "3ehp8VStToYq"
      },
      "source": [
        "## 문제 6043\n",
        "\n",
        "실수 2개 입력받아 나눈 결과 계산하기"
      ]
    },
    {
      "cell_type": "code",
      "metadata": {
        "colab": {
          "base_uri": "https://localhost:8080/"
        },
        "id": "ChiPlFu6gmxs",
        "outputId": "945b125f-3234-4cb4-ecf0-0c916d7a6aec"
      },
      "source": [
        "a,b=input().split()\n",
        "a=float(a)\n",
        "b=float(b)\n",
        "print(format(a/b,\".3f\"))"
      ],
      "execution_count": null,
      "outputs": [
        {
          "output_type": "stream",
          "name": "stdout",
          "text": [
            "10.0 3.0\n",
            "3.333\n"
          ]
        }
      ]
    },
    {
      "cell_type": "markdown",
      "metadata": {
        "id": "-UfZgZAYgmqU"
      },
      "source": [
        "## 문제 6044\n",
        " \n",
        "정수 2개를 입력받아 자동 계산하기"
      ]
    },
    {
      "cell_type": "code",
      "metadata": {
        "colab": {
          "base_uri": "https://localhost:8080/"
        },
        "id": "hfvPzCFRgmf9",
        "outputId": "843d1e78-baef-4a5b-824f-9cd80b7e2c24"
      },
      "source": [
        "a,b=input().split()\n",
        "a=int(a)\n",
        "b=int(b)\n",
        "print(a+b)\n",
        "print(a-b)\n",
        "print(a*b)\n",
        "print(a//b)\n",
        "print(a%b)\n",
        "print(format(a/b,\".2f\"))"
      ],
      "execution_count": null,
      "outputs": [
        {
          "output_type": "stream",
          "name": "stdout",
          "text": [
            "10 3\n",
            "13\n",
            "7\n",
            "30\n",
            "3\n",
            "1\n",
            "3.33\n"
          ]
        }
      ]
    },
    {
      "cell_type": "markdown",
      "metadata": {
        "id": "QZ0bIPmzgl3T"
      },
      "source": [
        "## 문제 6045\n",
        "\n",
        "정수 3개 입력받아 합과 평균 출력하기"
      ]
    },
    {
      "cell_type": "code",
      "metadata": {
        "colab": {
          "base_uri": "https://localhost:8080/"
        },
        "id": "1zrNW9J1glZe",
        "outputId": "d75d06af-80d7-4f14-eaf5-9a37aaa8f1be"
      },
      "source": [
        "a,b,c=input().split()\n",
        "a=int(a)\n",
        "b=int(b)\n",
        "c=int(c)\n",
        "sum=a+b+c\n",
        "avg=sum/3\n",
        "print(sum,format(avg,\".2f\"))"
      ],
      "execution_count": null,
      "outputs": [
        {
          "output_type": "stream",
          "name": "stdout",
          "text": [
            "1 2 3\n",
            "6 2.00\n"
          ]
        }
      ]
    },
    {
      "cell_type": "markdown",
      "metadata": {
        "id": "VzAJgtGRib5M"
      },
      "source": [
        "##문제 6046\n",
        "\n",
        "정수 1개 입력받아 2배 곱해 출력하기"
      ]
    },
    {
      "cell_type": "code",
      "metadata": {
        "colab": {
          "base_uri": "https://localhost:8080/"
        },
        "id": "stXn7ZCUibzF",
        "outputId": "9cdfd92a-2d83-4baa-9cfc-8d3d494da0f4"
      },
      "source": [
        "s=int(input())\n",
        "print(s*2)"
      ],
      "execution_count": null,
      "outputs": [
        {
          "output_type": "stream",
          "name": "stdout",
          "text": [
            "1024\n",
            "2048\n"
          ]
        }
      ]
    },
    {
      "cell_type": "markdown",
      "metadata": {
        "id": "7CGCx1KSjpuj"
      },
      "source": [
        "## 문제 6047\n",
        "\n",
        "2의 겨듭제곱 배로 곱해 출력하기"
      ]
    },
    {
      "cell_type": "code",
      "metadata": {
        "colab": {
          "base_uri": "https://localhost:8080/"
        },
        "id": "ItoYa_-mibql",
        "outputId": "3220eb5f-d60f-4555-aa78-ae5f355da406"
      },
      "source": [
        "a,b=input().split()\n",
        "a=int(a)\n",
        "b=int(b)\n",
        "print(a<<b)"
      ],
      "execution_count": null,
      "outputs": [
        {
          "output_type": "stream",
          "name": "stdout",
          "text": [
            "1 3\n",
            "8\n"
          ]
        }
      ]
    },
    {
      "cell_type": "markdown",
      "metadata": {
        "id": "zcoJIhbDkAn2"
      },
      "source": [
        "## 문제 6048\n",
        "\n",
        "정수 2개 입력받아 비교하기1"
      ]
    },
    {
      "cell_type": "code",
      "metadata": {
        "colab": {
          "base_uri": "https://localhost:8080/"
        },
        "id": "NpbjawaBibN2",
        "outputId": "e601b29c-f840-4cda-e02a-d9cad75c723f"
      },
      "source": [
        "a, b=input().split()\n",
        "a=int(a)\n",
        "b=int(b)\n",
        "print(a<b)"
      ],
      "execution_count": null,
      "outputs": [
        {
          "output_type": "stream",
          "name": "stdout",
          "text": [
            "1 9\n",
            "True\n"
          ]
        }
      ]
    },
    {
      "cell_type": "markdown",
      "metadata": {
        "id": "ygDFvq3AkdTc"
      },
      "source": [
        "## 문제 6049\n",
        "\n",
        "정수 2개 입력받아 비교하기2"
      ]
    },
    {
      "cell_type": "code",
      "metadata": {
        "colab": {
          "base_uri": "https://localhost:8080/"
        },
        "id": "qvZO6horkdOx",
        "outputId": "dde558e9-edf6-4a2c-ba97-070378af2420"
      },
      "source": [
        "a,b=input().split()\n",
        "a=int(a)\n",
        "b=int(b)\n",
        "print(a==b)"
      ],
      "execution_count": null,
      "outputs": [
        {
          "output_type": "stream",
          "name": "stdout",
          "text": [
            "0 0\n",
            "True\n"
          ]
        }
      ]
    },
    {
      "cell_type": "markdown",
      "metadata": {
        "id": "n71xNwh-kdJU"
      },
      "source": [
        "## 문제 6050\n",
        "\n",
        "정수 2개 입력받아 비교하기3"
      ]
    },
    {
      "cell_type": "code",
      "metadata": {
        "colab": {
          "base_uri": "https://localhost:8080/"
        },
        "id": "4Rk2QIZ3kdD7",
        "outputId": "8963fd9e-eeb4-4fab-e2ef-e753fa100613"
      },
      "source": [
        "a,b=input().split()\n",
        "a=int(a)\n",
        "b=int(b)\n",
        "print(a<=b)"
      ],
      "execution_count": null,
      "outputs": [
        {
          "output_type": "stream",
          "name": "stdout",
          "text": [
            "0 -1\n",
            "False\n"
          ]
        }
      ]
    },
    {
      "cell_type": "markdown",
      "metadata": {
        "id": "nBDsyXd2lMg9"
      },
      "source": [
        "## 문제 6051\n",
        "\n",
        "정수 2개 입력받아 비교하기4"
      ]
    },
    {
      "cell_type": "code",
      "metadata": {
        "colab": {
          "base_uri": "https://localhost:8080/"
        },
        "id": "JtD9z0NwlMX4",
        "outputId": "48e2b8cd-e1ba-4b94-d609-8390ea5d2106"
      },
      "source": [
        "a,b=input().split()\n",
        "a=int(a)\n",
        "b=int(b)\n",
        "print(a!=b)"
      ],
      "execution_count": null,
      "outputs": [
        {
          "output_type": "stream",
          "name": "stdout",
          "text": [
            "0 1\n",
            "True\n"
          ]
        }
      ]
    },
    {
      "cell_type": "markdown",
      "metadata": {
        "id": "a5GsB6WrlXpE"
      },
      "source": [
        "## 문제 6052\n",
        "\n",
        "정수 입력받아 참 거짓 평가하기"
      ]
    },
    {
      "cell_type": "code",
      "metadata": {
        "colab": {
          "base_uri": "https://localhost:8080/"
        },
        "id": "ZxrTsFKrlMN-",
        "outputId": "f89a1788-fc36-4443-c9dc-95f8a123a6db"
      },
      "source": [
        "a=input()\n",
        "a=int(a)\n",
        "print(bool(a))"
      ],
      "execution_count": null,
      "outputs": [
        {
          "output_type": "stream",
          "name": "stdout",
          "text": [
            "0\n",
            "False\n"
          ]
        }
      ]
    },
    {
      "cell_type": "markdown",
      "metadata": {
        "id": "BElszcj_l9ZW"
      },
      "source": [
        "## 문제 6053\n",
        "\n",
        "참 거짓 바꾸기"
      ]
    },
    {
      "cell_type": "code",
      "metadata": {
        "colab": {
          "base_uri": "https://localhost:8080/"
        },
        "id": "_Z1sLNClmDbO",
        "outputId": "023ffae8-52a1-4607-e98e-2c5aef53c56c"
      },
      "source": [
        "a=bool(int(input()))\n",
        "print(not a)"
      ],
      "execution_count": null,
      "outputs": [
        {
          "output_type": "stream",
          "name": "stdout",
          "text": [
            "0\n",
            "True\n"
          ]
        }
      ]
    },
    {
      "cell_type": "markdown",
      "metadata": {
        "id": "RF2Ny0o-l9JW"
      },
      "source": [
        "## 문제 6054\n",
        "\n",
        "둘 다 참일 경우만 참 출력하기"
      ]
    },
    {
      "cell_type": "code",
      "metadata": {
        "colab": {
          "base_uri": "https://localhost:8080/"
        },
        "id": "vxcHewJslL6G",
        "outputId": "3849fd44-bd47-4365-fd7e-fe08c2db389f"
      },
      "source": [
        "a,b=input().split()\n",
        "a=int(a)\n",
        "b=int(b)\n",
        "print(bool(a*b))"
      ],
      "execution_count": null,
      "outputs": [
        {
          "output_type": "stream",
          "name": "stdout",
          "text": [
            "1 1\n",
            "True\n"
          ]
        }
      ]
    },
    {
      "cell_type": "markdown",
      "metadata": {
        "id": "f1hQnoOjmrLV"
      },
      "source": [
        "## 문제 6055\n",
        "\n",
        "하나라도 참이면 참 출력하기"
      ]
    },
    {
      "cell_type": "code",
      "metadata": {
        "colab": {
          "base_uri": "https://localhost:8080/"
        },
        "id": "iVENCDfxkc-L",
        "outputId": "850d759a-5634-4782-dc6e-904e1a489e21"
      },
      "source": [
        "a,b=input().split()\n",
        "a=int(a)\n",
        "b=int(b)\n",
        "print(bool(a or b))"
      ],
      "execution_count": null,
      "outputs": [
        {
          "output_type": "stream",
          "name": "stdout",
          "text": [
            "1 1\n",
            "True\n"
          ]
        }
      ]
    },
    {
      "cell_type": "markdown",
      "metadata": {
        "id": "K5rPtyCKkc4N"
      },
      "source": [
        "## 문제 6056\n",
        "\n",
        "참/거짓이 서로 다를 때에만 참 출력하기"
      ]
    },
    {
      "cell_type": "code",
      "metadata": {
        "colab": {
          "base_uri": "https://localhost:8080/"
        },
        "id": "-AgJpIQ3kcsN",
        "outputId": "9cab5897-4638-4dbf-c3cb-3406e5f9c0d6"
      },
      "source": [
        "a,b=input().split()\n",
        "a=bool(int(a))\n",
        "b=bool(int(b))\n",
        "print(bool(a!=b))"
      ],
      "execution_count": null,
      "outputs": [
        {
          "output_type": "stream",
          "name": "stdout",
          "text": [
            "1 1\n",
            "False\n"
          ]
        }
      ]
    },
    {
      "cell_type": "markdown",
      "metadata": {
        "id": "c_z_2jp-kcVN"
      },
      "source": [
        "## 문제 6057\n",
        "\n",
        "참/거짓이 서로 같을때만 참 출력하기"
      ]
    },
    {
      "cell_type": "code",
      "metadata": {
        "colab": {
          "base_uri": "https://localhost:8080/"
        },
        "id": "aj_PCchGpnQt",
        "outputId": "94ddb79c-39ba-4bdf-9cff-b27e315d5538"
      },
      "source": [
        "a,b=input().split()\n",
        "a=bool(int(a))\n",
        "b=bool(int(b))\n",
        "print(bool(a==b))"
      ],
      "execution_count": null,
      "outputs": [
        {
          "output_type": "stream",
          "name": "stdout",
          "text": [
            "1 1\n",
            "True\n"
          ]
        }
      ]
    },
    {
      "cell_type": "markdown",
      "metadata": {
        "id": "eY0dJGJopm-o"
      },
      "source": [
        "## 문제 6058\n",
        "\n",
        "둘 다 거짓일 경우만 참 출력하기"
      ]
    },
    {
      "cell_type": "code",
      "metadata": {
        "id": "ivkyPUD2S8q9",
        "colab": {
          "base_uri": "https://localhost:8080/"
        },
        "outputId": "54161649-60b1-42bf-9bb3-87a96b1ccd3b"
      },
      "source": [
        "a,b=input().split()\n",
        "a=bool(int(a))\n",
        "b=bool(int(b))\n",
        "print(a+b==0)"
      ],
      "execution_count": null,
      "outputs": [
        {
          "output_type": "stream",
          "name": "stdout",
          "text": [
            "0 0\n",
            "True\n"
          ]
        }
      ]
    },
    {
      "cell_type": "markdown",
      "metadata": {
        "id": "CQWZK4q3qIe0"
      },
      "source": [
        "## 문제 6059\n",
        "\n",
        "비트단위로 NOT 하여 출력하기"
      ]
    },
    {
      "cell_type": "code",
      "metadata": {
        "colab": {
          "base_uri": "https://localhost:8080/"
        },
        "id": "lH5iubUSqIX8",
        "outputId": "e7ea978d-ec23-4d5b-e895-26b4ab3f3805"
      },
      "source": [
        "n=int(input())\n",
        "print(~n)"
      ],
      "execution_count": null,
      "outputs": [
        {
          "output_type": "stream",
          "name": "stdout",
          "text": [
            "2\n",
            "-3\n"
          ]
        }
      ]
    },
    {
      "cell_type": "markdown",
      "metadata": {
        "id": "8DsuDZBmqIRm"
      },
      "source": [
        "## 문제 6060\n",
        "\n",
        "비트단위 AND 하여 출력하기"
      ]
    },
    {
      "cell_type": "code",
      "metadata": {
        "colab": {
          "base_uri": "https://localhost:8080/"
        },
        "id": "bpo5Ar46qIL8",
        "outputId": "58bef16c-400f-4f53-f419-0c5a1f241812"
      },
      "source": [
        "a, b = input().split()\n",
        "a=int(a)\n",
        "b=int(b)\n",
        "print(a & b)"
      ],
      "execution_count": null,
      "outputs": [
        {
          "output_type": "stream",
          "name": "stdout",
          "text": [
            "3 5\n",
            "1\n"
          ]
        }
      ]
    },
    {
      "cell_type": "markdown",
      "metadata": {
        "id": "fiKTakKUqIE0"
      },
      "source": [
        "## 문제 6061\n",
        "\n",
        "비트단위로 OR 하여 출력하기"
      ]
    },
    {
      "cell_type": "code",
      "metadata": {
        "colab": {
          "base_uri": "https://localhost:8080/"
        },
        "id": "YH3jPuP2qH90",
        "outputId": "d9e16429-5df6-4341-d075-0551bb7e3e8d"
      },
      "source": [
        "a, b = input().split()\n",
        "a=int(a)\n",
        "b=int(b)\n",
        "print(a | b)"
      ],
      "execution_count": null,
      "outputs": [
        {
          "output_type": "stream",
          "name": "stdout",
          "text": [
            "3 5\n",
            "7\n"
          ]
        }
      ]
    },
    {
      "cell_type": "markdown",
      "metadata": {
        "id": "qzrVr0U2qH39"
      },
      "source": [
        "## 문제 6062\n",
        "\n",
        "비트단위로 XOR 하여 출력하기"
      ]
    },
    {
      "cell_type": "code",
      "metadata": {
        "colab": {
          "base_uri": "https://localhost:8080/"
        },
        "id": "hTLjHw_FqHwW",
        "outputId": "221c038d-0ffc-4223-ce8f-7b9ddd5bfbc7"
      },
      "source": [
        "a, b = input().split()\n",
        "a=int(a)\n",
        "b=int(b)\n",
        "print(a ^ b)"
      ],
      "execution_count": null,
      "outputs": [
        {
          "output_type": "stream",
          "name": "stdout",
          "text": [
            "3 5\n",
            "6\n"
          ]
        }
      ]
    },
    {
      "cell_type": "markdown",
      "metadata": {
        "id": "vNmHXJ2eqHj-"
      },
      "source": [
        "## 문제 6063\n",
        "\n",
        "정수 2개 입력받아 큰 값 출력하기"
      ]
    },
    {
      "cell_type": "code",
      "metadata": {
        "colab": {
          "base_uri": "https://localhost:8080/"
        },
        "id": "H0789N0PvWe-",
        "outputId": "6570b9c5-92ca-47c7-fbc5-bcd1f0f422b1"
      },
      "source": [
        "a,b=input().split()\n",
        "a=int(a)\n",
        "b=int(b)\n",
        "c=(a if(a>b) else b)\n",
        "print(c)"
      ],
      "execution_count": null,
      "outputs": [
        {
          "output_type": "stream",
          "name": "stdout",
          "text": [
            "3 5\n",
            "5\n"
          ]
        }
      ]
    },
    {
      "cell_type": "markdown",
      "metadata": {
        "id": "cI-OFXaVvWSm"
      },
      "source": [
        "## 문제 6064\n",
        "\n",
        "정수 3개 입력받아 가장 작은 값 출력하기"
      ]
    },
    {
      "cell_type": "code",
      "metadata": {
        "colab": {
          "base_uri": "https://localhost:8080/"
        },
        "id": "bNuF8IN8vWGe",
        "outputId": "3eee8704-4d58-47a2-db5a-2aade490718d"
      },
      "source": [
        "a,b,c=input().split()  \n",
        "a=int(a)\n",
        "b=int(b)\n",
        "c=int(c)\n",
        "print((a if(a<b) else b) if( (a if(a<b) else b) < c ) else c)"
      ],
      "execution_count": null,
      "outputs": [
        {
          "output_type": "stream",
          "name": "stdout",
          "text": [
            "3 1 5\n",
            "1\n"
          ]
        }
      ]
    },
    {
      "cell_type": "markdown",
      "metadata": {
        "id": "X3DX7b1CvVwP"
      },
      "source": [
        "## 문제 6065\n",
        "\n",
        "정수 3개 입력받아 짝수만 출력하기"
      ]
    },
    {
      "cell_type": "code",
      "metadata": {
        "colab": {
          "base_uri": "https://localhost:8080/"
        },
        "id": "lKlSmhaICJmS",
        "outputId": "157356c3-0eb1-4d71-9cad-fbdb146a5865"
      },
      "source": [
        "a,b,c=input().split()  \n",
        "a=int(a);b=int(b);c=int(c)\n",
        "if a%2 ==0 :\n",
        "  print(a)\n",
        "\n",
        "if b%2 ==0 :\n",
        "  print(b)\n",
        "\n",
        "if c%2 ==0 :\n",
        "  print(c)"
      ],
      "execution_count": null,
      "outputs": [
        {
          "output_type": "stream",
          "name": "stdout",
          "text": [
            "4 2 0\n",
            "4\n",
            "2\n",
            "0\n"
          ]
        }
      ]
    },
    {
      "cell_type": "markdown",
      "metadata": {
        "id": "9WOXy_MoCJYy"
      },
      "source": [
        "## 문제 6066\n",
        "\n",
        "정수 3개 입력받아 짝/홀 출력하기"
      ]
    },
    {
      "cell_type": "code",
      "metadata": {
        "colab": {
          "base_uri": "https://localhost:8080/"
        },
        "id": "MRT9TXxvCgIf",
        "outputId": "231d5c19-119a-4701-fe4d-57fe075d3648"
      },
      "source": [
        "a,b,c=input().split()  \n",
        "a=int(a);b=int(b);c=int(c)\n",
        "if a%2 ==0 :\n",
        "  print('even')\n",
        "else:\n",
        "  print('odd')\n",
        "\n",
        "if b%2 ==0 :\n",
        "  print('even')\n",
        "else:\n",
        "  print('odd')\n",
        "\n",
        "\n",
        "if c%2 ==0 :\n",
        "  print('even')\n",
        "else:\n",
        "  print('odd')\n"
      ],
      "execution_count": null,
      "outputs": [
        {
          "output_type": "stream",
          "name": "stdout",
          "text": [
            " 4 2 1\n",
            "even\n",
            "even\n",
            "odd\n"
          ]
        }
      ]
    },
    {
      "cell_type": "markdown",
      "metadata": {
        "id": "0-qSwO9cCghG"
      },
      "source": [
        "## 문제 6067\n",
        "\n",
        "정수 1개 입력받아 분류하기"
      ]
    },
    {
      "cell_type": "code",
      "metadata": {
        "colab": {
          "base_uri": "https://localhost:8080/"
        },
        "id": "9D7jBAAECg3e",
        "outputId": "11adcb1c-aeea-4915-93f2-00b25a8dd7d8"
      },
      "source": [
        "n=int(input())\n",
        "\n",
        "if n<0 and n%2 ==0:\n",
        "  print('A')\n",
        "if n<0 and n%2 !=0:\n",
        "  print('B')\n",
        "if n>0 and n%2 ==0:\n",
        "  print('C')\n",
        "if n>0 and n%2 !=0:\n",
        "  print('D')\n"
      ],
      "execution_count": null,
      "outputs": [
        {
          "output_type": "stream",
          "name": "stdout",
          "text": [
            "5\n",
            "D\n"
          ]
        }
      ]
    },
    {
      "cell_type": "markdown",
      "metadata": {
        "id": "TRAlrU5PFE9y"
      },
      "source": [
        "## 문제 6068\n",
        "\n",
        "점수 입력받아 평가 출력하기"
      ]
    },
    {
      "cell_type": "code",
      "metadata": {
        "colab": {
          "base_uri": "https://localhost:8080/"
        },
        "id": "0M8BeQQBFE0Z",
        "outputId": "d8643101-e9d7-4a40-f10d-6d9d28154ff4"
      },
      "source": [
        "n=int(input())\n",
        "\n",
        "if(n>=90):\n",
        "  print(\"A\")\n",
        "else:\n",
        "  if(n>=70):\n",
        "    print('B')\n",
        "  else:\n",
        "    if(n>=40):\n",
        "      print('C')\n",
        "    else:\n",
        "      print('D')"
      ],
      "execution_count": null,
      "outputs": [
        {
          "output_type": "stream",
          "name": "stdout",
          "text": [
            "80\n",
            "B\n"
          ]
        }
      ]
    },
    {
      "cell_type": "markdown",
      "metadata": {
        "id": "TDAMnYCxFEsy"
      },
      "source": [
        "## 문제 6069\n",
        "\n",
        "평가 입력받아 다르게 출력하기"
      ]
    },
    {
      "cell_type": "code",
      "metadata": {
        "colab": {
          "base_uri": "https://localhost:8080/"
        },
        "id": "rdGAD9OQFEej",
        "outputId": "b6dc2f62-5abe-4120-c4c1-98f9494e0165"
      },
      "source": [
        "v=input()\n",
        "if(v=='A'):\n",
        "  print(\"best!!!\")\n",
        "else:\n",
        "  if(v=='B'):\n",
        "    print(\"good!!\")\n",
        "  else:\n",
        "    if(v=='C'):\n",
        "      print('run!')\n",
        "    else:\n",
        "      if(v=='D'):\n",
        "        print('slowly~')\n",
        "      else:\n",
        "        print(\"what?\")"
      ],
      "execution_count": null,
      "outputs": [
        {
          "output_type": "stream",
          "name": "stdout",
          "text": [
            "efefe\n",
            "what?\n"
          ]
        }
      ]
    },
    {
      "cell_type": "markdown",
      "metadata": {
        "id": "KZkaTfGIGc1I"
      },
      "source": [
        "## 문제 6070 \n",
        "\n",
        "월 입력받아 계절 출력하기"
      ]
    },
    {
      "cell_type": "code",
      "metadata": {
        "colab": {
          "base_uri": "https://localhost:8080/"
        },
        "id": "Bg-YaMCNGcu9",
        "outputId": "518c3480-afcd-4961-cdfa-701f973d6102"
      },
      "source": [
        "m=int(input())\n",
        "if m==12 or m==1 or m==2:\n",
        "  print('winter')\n",
        "else:\n",
        "  if m==3 or m==4 or m==5:\n",
        "    print('spring')\n",
        "  else:\n",
        "    if m==6 or m==7 or m==8:\n",
        "      print('summer')\n",
        "    else:\n",
        "      print('fall')\n",
        "    "
      ],
      "execution_count": null,
      "outputs": [
        {
          "output_type": "stream",
          "name": "stdout",
          "text": [
            "3\n",
            "spring\n"
          ]
        }
      ]
    },
    {
      "cell_type": "markdown",
      "metadata": {
        "id": "8bolfTwzIIId"
      },
      "source": [
        "## 문제 6071\n",
        "\n",
        "0 입력될 때까지 무한 출력하기"
      ]
    },
    {
      "cell_type": "code",
      "metadata": {
        "colab": {
          "base_uri": "https://localhost:8080/"
        },
        "id": "Nol0sKzZIIC1",
        "outputId": "adf175b1-4cc9-4bf7-c1dd-8ffda4ea31e1"
      },
      "source": [
        "n=1\n",
        "while(n!=0):\n",
        "  n=int(input())\n",
        "  if n!=0:\n",
        "    print(n)"
      ],
      "execution_count": null,
      "outputs": [
        {
          "name": "stdout",
          "output_type": "stream",
          "text": [
            "3\n",
            "3\n",
            "5\n",
            "5\n",
            "1\n",
            "1\n",
            "0\n"
          ]
        }
      ]
    },
    {
      "cell_type": "markdown",
      "metadata": {
        "id": "o6uT9SbHIH_F"
      },
      "source": [
        "## 문제 6072\n",
        "\n",
        "정수 1개 입력받아 카운트다운 출력하기1"
      ]
    },
    {
      "cell_type": "code",
      "metadata": {
        "colab": {
          "base_uri": "https://localhost:8080/"
        },
        "id": "rlxz3Gd5IH48",
        "outputId": "8374936b-5b04-4811-ab5d-0b00125cc6d3"
      },
      "source": [
        "n=int(input())\n",
        "while(n!=0):\n",
        "  print(n)\n",
        "  n=n-1"
      ],
      "execution_count": null,
      "outputs": [
        {
          "output_type": "stream",
          "name": "stdout",
          "text": [
            "3\n",
            "3\n",
            "2\n",
            "1\n"
          ]
        }
      ]
    },
    {
      "cell_type": "markdown",
      "metadata": {
        "id": "SFgonbI2IHy2"
      },
      "source": [
        "## 문제 6073\n",
        "\n",
        "정수 1개 입력받아 카운트다운 출력하기2"
      ]
    },
    {
      "cell_type": "code",
      "metadata": {
        "colab": {
          "base_uri": "https://localhost:8080/"
        },
        "id": "uYPtKBjLIHsl",
        "outputId": "445b10ff-e8ae-4838-8418-1cad36ac750b"
      },
      "source": [
        "n=int(input())\n",
        "while(n!=0):\n",
        "  n=n-1\n",
        "  print(n)"
      ],
      "execution_count": null,
      "outputs": [
        {
          "output_type": "stream",
          "name": "stdout",
          "text": [
            "5\n",
            "4\n",
            "3\n",
            "2\n",
            "1\n",
            "0\n"
          ]
        }
      ]
    },
    {
      "cell_type": "markdown",
      "metadata": {
        "id": "y9jX5Z1dGcmW"
      },
      "source": [
        "## 문제 6074\n",
        "\n",
        "문자 1개 입력받아 알파벳 출력하기"
      ]
    },
    {
      "cell_type": "code",
      "metadata": {
        "colab": {
          "base_uri": "https://localhost:8080/"
        },
        "id": "E8-2N3xgGch1",
        "outputId": "44dc2b5e-fb2b-4b5d-f527-e583fa27c618"
      },
      "source": [
        "c=ord(input())\n",
        "t=ord('a')\n",
        "\n",
        "while t<=c:\n",
        "  print(chr(t),end=' ')\n",
        "  t=t+1"
      ],
      "execution_count": null,
      "outputs": [
        {
          "output_type": "stream",
          "name": "stdout",
          "text": [
            "d\n",
            "a b c d "
          ]
        }
      ]
    },
    {
      "cell_type": "markdown",
      "metadata": {
        "id": "W2WP5NGhGcdd"
      },
      "source": [
        "## 문제 6075\n",
        "\n",
        "정수 1개 입력받아 그 수 까지 출력하기1"
      ]
    },
    {
      "cell_type": "code",
      "metadata": {
        "colab": {
          "base_uri": "https://localhost:8080/"
        },
        "id": "rkYxnn80GcZl",
        "outputId": "a1750d21-4a89-41f3-df03-d6469114368e"
      },
      "source": [
        "n=int(input())\n",
        "s=0\n",
        "while s<=n:\n",
        "  print(s)\n",
        "  s+=1"
      ],
      "execution_count": null,
      "outputs": [
        {
          "output_type": "stream",
          "name": "stdout",
          "text": [
            "4\n",
            "0\n",
            "1\n",
            "2\n",
            "3\n",
            "4\n"
          ]
        }
      ]
    },
    {
      "cell_type": "markdown",
      "metadata": {
        "id": "sJW-DLtGGcSm"
      },
      "source": [
        "## 문제 6076\n",
        "\n",
        "정수 1개 입력받아 그 수까지 출력하기2"
      ]
    },
    {
      "cell_type": "code",
      "metadata": {
        "colab": {
          "base_uri": "https://localhost:8080/"
        },
        "id": "uk6WK-agGcGf",
        "outputId": "a03f31e8-8961-4fa4-f10f-925155df20be"
      },
      "source": [
        "n=int(input())\n",
        "for i in range(n+1):\n",
        "  print(i)"
      ],
      "execution_count": null,
      "outputs": [
        {
          "output_type": "stream",
          "name": "stdout",
          "text": [
            "5\n",
            "0\n",
            "1\n",
            "2\n",
            "3\n",
            "4\n",
            "5\n"
          ]
        }
      ]
    },
    {
      "cell_type": "markdown",
      "metadata": {
        "id": "rE4BPyMoChM2"
      },
      "source": [
        "## 문제 6077\n",
        "\n",
        "짝수 합 구하기"
      ]
    },
    {
      "cell_type": "code",
      "metadata": {
        "colab": {
          "base_uri": "https://localhost:8080/"
        },
        "id": "xsry3AURNBU1",
        "outputId": "8f070b8f-699c-4792-8a32-105268c7bbb7"
      },
      "source": [
        "n=int(input())\n",
        "s=0\n",
        "\n",
        "for i in range(n+1):\n",
        "  if(i%2==0):\n",
        "    s+=i\n",
        "print(s)\n",
        "\n"
      ],
      "execution_count": null,
      "outputs": [
        {
          "output_type": "stream",
          "name": "stdout",
          "text": [
            "5\n",
            "6\n"
          ]
        }
      ]
    },
    {
      "cell_type": "markdown",
      "metadata": {
        "id": "ZEpS7uRONBRd"
      },
      "source": [
        "## 문제 6078\n",
        "\n",
        "원하는 문자가 입력될 때까지 반복 출력하기"
      ]
    },
    {
      "cell_type": "code",
      "metadata": {
        "colab": {
          "base_uri": "https://localhost:8080/"
        },
        "id": "tOzxWb6NNBOF",
        "outputId": "c4673920-6835-47d5-91d8-b03c39337cf2"
      },
      "source": [
        "s='a'\n",
        "while(s!='q'):\n",
        "  s=input()\n",
        "  print(s)"
      ],
      "execution_count": null,
      "outputs": [
        {
          "output_type": "stream",
          "name": "stdout",
          "text": [
            "w\n",
            "w\n",
            "e\n",
            "e\n",
            "a\n",
            "a\n",
            "q\n",
            "q\n"
          ]
        }
      ]
    },
    {
      "cell_type": "markdown",
      "metadata": {
        "id": "-MN0_YssNBK2"
      },
      "source": [
        "## 문제 6079\n",
        "\n",
        "언제까지 더해야 할까?"
      ]
    },
    {
      "cell_type": "code",
      "metadata": {
        "colab": {
          "base_uri": "https://localhost:8080/"
        },
        "id": "K8lfjYAvNBHl",
        "outputId": "6a8b0b3a-e015-4235-a0ec-4117f0748f26"
      },
      "source": [
        "s=0\n",
        "n=int(input())\n",
        "for i in range(1,n+1):\n",
        "  s+=i\n",
        "  if (n<=s):\n",
        "    print(i)\n",
        "    break\n",
        "  "
      ],
      "execution_count": null,
      "outputs": [
        {
          "output_type": "stream",
          "name": "stdout",
          "text": [
            "55\n",
            "10\n"
          ]
        }
      ]
    },
    {
      "cell_type": "markdown",
      "metadata": {
        "id": "SQ58u2LKNBEV"
      },
      "source": [
        "## 문제 6080\n",
        "\n",
        "주사위 2개 던지기"
      ]
    },
    {
      "cell_type": "code",
      "metadata": {
        "colab": {
          "base_uri": "https://localhost:8080/"
        },
        "id": "gNHY5ahoNBA9",
        "outputId": "b0bc1ecd-0d3d-4d1a-cee1-9f3458c75ec2"
      },
      "source": [
        "a,b = input().split()\n",
        "a=int(a)\n",
        "b=int(b)\n",
        "for i in range(1,a+1):\n",
        "  for j in range(1,b+1):\n",
        "    print(i,j)"
      ],
      "execution_count": null,
      "outputs": [
        {
          "output_type": "stream",
          "name": "stdout",
          "text": [
            "2 3\n",
            "1 1\n",
            "1 2\n",
            "1 3\n",
            "2 1\n",
            "2 2\n",
            "2 3\n"
          ]
        }
      ]
    },
    {
      "cell_type": "markdown",
      "metadata": {
        "id": "CBTnyDzZjUEX"
      },
      "source": [
        "## 문제 6081\n",
        "\n",
        "16진수 구구단 출력하기"
      ]
    },
    {
      "cell_type": "code",
      "metadata": {
        "colab": {
          "base_uri": "https://localhost:8080/"
        },
        "id": "QCCMFF90NA9t",
        "outputId": "6914e8bd-273d-4dec-9732-da069d1c9369"
      },
      "source": [
        "n=input()\n",
        "n=int(n,16)\n",
        "for i in range(1,16):\n",
        "  print(\"%X\"%n,\"*%X\"%i,\"=%X\"%(n*i),sep='')"
      ],
      "execution_count": null,
      "outputs": [
        {
          "output_type": "stream",
          "name": "stdout",
          "text": [
            "B\n",
            "B*1=B\n",
            "B*2=16\n",
            "B*3=21\n",
            "B*4=2C\n",
            "B*5=37\n",
            "B*6=42\n",
            "B*7=4D\n",
            "B*8=58\n",
            "B*9=63\n",
            "B*A=6E\n",
            "B*B=79\n",
            "B*C=84\n",
            "B*D=8F\n",
            "B*E=9A\n",
            "B*F=A5\n",
            "B*10=B0\n"
          ]
        }
      ]
    },
    {
      "cell_type": "markdown",
      "metadata": {
        "id": "PlA1yDWDNA6d"
      },
      "source": [
        "## 문제 6082\n",
        "\n",
        "3 6 9 게임의 왕이 되자\n",
        "\n",
        "%= 나머지 //=몫"
      ]
    },
    {
      "cell_type": "code",
      "metadata": {
        "colab": {
          "base_uri": "https://localhost:8080/"
        },
        "id": "laH5faJf-H5O",
        "outputId": "c43c5942-a86b-4c8c-933e-2d283cd8c0f2"
      },
      "source": [
        "n=int(input())\n",
        "\n",
        "for i in range(1,n+1):\n",
        "\n",
        "  if ( (i%10)!=0 and (i%10)%3==0) :\n",
        "    print(\"X\",end=' ')\n",
        "  else:\n",
        "    print(i,end=' ')\n",
        "  "
      ],
      "execution_count": null,
      "outputs": [
        {
          "output_type": "stream",
          "name": "stdout",
          "text": [
            "9\n",
            "1 2 X 4 5 X 7 8 X "
          ]
        }
      ]
    },
    {
      "cell_type": "markdown",
      "metadata": {
        "id": "s_rrrCq46MHx"
      },
      "source": [
        "### 문제 6083\n",
        "\n",
        "빛 섞어 색 만들기"
      ]
    },
    {
      "cell_type": "code",
      "metadata": {
        "colab": {
          "base_uri": "https://localhost:8080/"
        },
        "id": "kIGdnOQe6MDh",
        "outputId": "a7bbd20f-b782-47e1-d9f6-e4c84b0198b2"
      },
      "source": [
        "r, g, b =input().split()\n",
        "r=int(r)\n",
        "g=int(g)\n",
        "b=int(b)\n",
        "\n",
        "for i in range(r):\n",
        "  for j in range(g):\n",
        "    for k in range(b):\n",
        "      print( i , j, k)\n",
        "print(r*g*b)\n"
      ],
      "execution_count": null,
      "outputs": [
        {
          "output_type": "stream",
          "name": "stdout",
          "text": [
            "2 2 2 \n",
            "0 0 0\n",
            "0 0 1\n",
            "0 1 0\n",
            "0 1 1\n",
            "1 0 0\n",
            "1 0 1\n",
            "1 1 0\n",
            "1 1 1\n",
            "8\n"
          ]
        }
      ]
    },
    {
      "cell_type": "markdown",
      "metadata": {
        "id": "GcdLRUb16L-z"
      },
      "source": [
        "## 문제 6084\n",
        "\n",
        "소리 파일 저장용량 계산하기\n",
        "\n",
        "1초 동안 마이크로 소리강약을 체크하는 횟수를 h\n",
        "저장할때 사용하는 비트수를 b (2 비트는 "
      ]
    },
    {
      "cell_type": "code",
      "metadata": {
        "colab": {
          "base_uri": "https://localhost:8080/"
        },
        "id": "zJjq5MLc6L6Z",
        "outputId": "f96b74db-951c-4641-a37e-f4c1616831bf"
      },
      "source": [
        "h,b,c,s=input().split()\n",
        "h=int(h)\n",
        "b=int(b)\n",
        "c=int(c)\n",
        "s=int(s)\n",
        "bit=(h*b*c*s)\n",
        "print(round(bit/8/1024/1024,1),'MB',end=\"\")"
      ],
      "execution_count": null,
      "outputs": [
        {
          "output_type": "stream",
          "name": "stdout",
          "text": [
            "44100 16 2 10\n",
            "1.7 MB"
          ]
        }
      ]
    },
    {
      "cell_type": "markdown",
      "metadata": {
        "id": "FAOrgJ-99Ttq"
      },
      "source": [
        "### 문제 6085\n",
        "\n",
        "그림 파일 저장용량 계산하기"
      ]
    },
    {
      "cell_type": "code",
      "metadata": {
        "id": "goIAxJEf9Tph",
        "colab": {
          "base_uri": "https://localhost:8080/"
        },
        "outputId": "5876579b-671a-452f-dbfc-661b99d98c16"
      },
      "source": [
        "w, h ,b=input().split()\n",
        "w=int(w)\n",
        "h=int(h)\n",
        "b=int(b)\n",
        "bit=round(w*h*b/8/1024/1024,2)\n",
        "print(bit,'MB')"
      ],
      "execution_count": null,
      "outputs": [
        {
          "output_type": "stream",
          "name": "stdout",
          "text": [
            "1024 768 24\n",
            "2.25 MB\n"
          ]
        }
      ]
    },
    {
      "cell_type": "markdown",
      "metadata": {
        "id": "Ardoagbk9TkL"
      },
      "source": [
        "## 문제 6086\n",
        "\n",
        "거기까지! 이제 그만~"
      ]
    },
    {
      "cell_type": "code",
      "metadata": {
        "colab": {
          "base_uri": "https://localhost:8080/"
        },
        "id": "gx0ZdOoT9TY8",
        "outputId": "eb2ab66f-a87e-478b-986f-0ab50ff2830d"
      },
      "source": [
        "n=int(input())\n",
        "s=0\n",
        "t=0\n",
        "while(t<n):\n",
        "  s+=1\n",
        "  t+=s\n",
        "print(t)"
      ],
      "execution_count": null,
      "outputs": [
        {
          "output_type": "stream",
          "name": "stdout",
          "text": [
            "57\n",
            "66\n"
          ]
        }
      ]
    },
    {
      "cell_type": "markdown",
      "metadata": {
        "id": "nEhNWLK2FnyT"
      },
      "source": [
        "## 문제 6087\n",
        "\n",
        "3의 배수는 통과"
      ]
    },
    {
      "cell_type": "code",
      "metadata": {
        "colab": {
          "base_uri": "https://localhost:8080/"
        },
        "id": "beE8LqmlFnjc",
        "outputId": "1692b7b5-5365-4549-fd30-0819955d7b0f"
      },
      "source": [
        "n=int(input())\n",
        "t=0\n",
        "while(t<n) :\n",
        "  t+=1\n",
        "  if (t%3 != 0):\n",
        "    print(t)\n",
        "    \n"
      ],
      "execution_count": null,
      "outputs": [
        {
          "output_type": "stream",
          "name": "stdout",
          "text": [
            "10\n",
            "1\n",
            "2\n",
            "4\n",
            "5\n",
            "7\n",
            "8\n",
            "10\n"
          ]
        }
      ]
    },
    {
      "cell_type": "markdown",
      "metadata": {
        "id": "G3tSGPxT6L0D"
      },
      "source": [
        "## 문제 6088\n",
        "\n",
        "수 나열하기1"
      ]
    },
    {
      "cell_type": "code",
      "metadata": {
        "colab": {
          "base_uri": "https://localhost:8080/"
        },
        "id": "fs5KW18c-HDA",
        "outputId": "2c447866-d7eb-4518-9e37-f0177428c2d7"
      },
      "source": [
        "a, d, n=input().split()\n",
        "a=int(a)\n",
        "d=int(d)\n",
        "n=int(n)\n",
        "\n",
        "for i in range(1,n+1):\n",
        "  if i == n:\n",
        "    print(a)\n",
        "  a+=d\n",
        "  \n"
      ],
      "execution_count": null,
      "outputs": [
        {
          "output_type": "stream",
          "name": "stdout",
          "text": [
            "1 3 5\n",
            "13\n"
          ]
        }
      ]
    },
    {
      "cell_type": "markdown",
      "metadata": {
        "id": "Faek4GbxIVzl"
      },
      "source": [
        "## 문제 6089\n",
        "\n",
        "수 나열하기2"
      ]
    },
    {
      "cell_type": "code",
      "metadata": {
        "colab": {
          "base_uri": "https://localhost:8080/"
        },
        "id": "IIr0MeUgIVvV",
        "outputId": "61ca3780-8195-44e4-abda-780b802102a7"
      },
      "source": [
        "a, r, n = input().split()\n",
        "a=int(a)\n",
        "r=int(r)\n",
        "n=int(n)\n",
        "\n",
        "for i in range(1,n+1):\n",
        "  if (i==n):\n",
        "    print(a)\n",
        "  a=a*r"
      ],
      "execution_count": null,
      "outputs": [
        {
          "output_type": "stream",
          "name": "stdout",
          "text": [
            "2 3 7\n",
            "1458\n"
          ]
        }
      ]
    },
    {
      "cell_type": "markdown",
      "metadata": {
        "id": "cDooUDzMJBw0"
      },
      "source": [
        "## 문제 6090\n",
        "\n",
        "수 나열하기3"
      ]
    },
    {
      "cell_type": "code",
      "metadata": {
        "colab": {
          "base_uri": "https://localhost:8080/"
        },
        "id": "wyf7hwQQIVsL",
        "outputId": "4f224eb1-eb91-43ca-d7bb-e1c17b064203"
      },
      "source": [
        "a, m,d, n = input().split()\n",
        "a=int(a)\n",
        "m=int(m)\n",
        "d=int(d)\n",
        "n=int(n)\n",
        "\n",
        "for i in range(1,n+1):\n",
        "  if (i==n):\n",
        "    print(a)\n",
        "  a=a*m+d"
      ],
      "execution_count": null,
      "outputs": [
        {
          "output_type": "stream",
          "name": "stdout",
          "text": [
            "1 -2 1 8\n",
            "-85\n"
          ]
        }
      ]
    },
    {
      "cell_type": "markdown",
      "metadata": {
        "id": "cBgA8ZqSJYdy"
      },
      "source": [
        "## 문제 6091\n",
        "\n",
        "함께 문제 푸는 날\n",
        "\n",
        "최소공배수\n",
        "\n"
      ]
    },
    {
      "cell_type": "code",
      "metadata": {
        "colab": {
          "base_uri": "https://localhost:8080/"
        },
        "id": "KXvBrcRaIVoa",
        "outputId": "4ffa5dea-99e3-4ed2-8971-c4e12c4f3396"
      },
      "source": [
        "a, b, c= input().split()\n",
        "a=int(a)\n",
        "b=int(b)\n",
        "c=int(c)\n",
        "d=1\n",
        "while not (d%a==0 and d%b==0 and d%c==0):\n",
        "  d+=1\n",
        "print(d)\n",
        "    \n"
      ],
      "execution_count": null,
      "outputs": [
        {
          "output_type": "stream",
          "name": "stdout",
          "text": [
            "3 7 9\n",
            "63\n"
          ]
        }
      ]
    },
    {
      "cell_type": "markdown",
      "metadata": {
        "id": "uTDJ7kWtIVkb"
      },
      "source": [
        "## 문제 6092\n",
        "\n",
        "이상한 출석 번호 부르기 1"
      ]
    },
    {
      "cell_type": "code",
      "metadata": {
        "colab": {
          "base_uri": "https://localhost:8080/"
        },
        "id": "-52I08v2IVfK",
        "outputId": "3e13e1b7-c75d-43c5-ba99-039548c7c249"
      },
      "source": [
        "d=[]\n",
        "for i in range(23):\n",
        "  d.append(0)\n",
        "\n",
        "n=int(input())\n",
        "a=input().split()\n",
        "\n",
        "for i in a:\n",
        "  i=int(i)\n",
        "  d[i-1]+=1\n",
        "\n",
        "for j in range(len(d)):\n",
        "  print(d[j],end=' ')\n"
      ],
      "execution_count": null,
      "outputs": [
        {
          "output_type": "stream",
          "name": "stdout",
          "text": [
            "10\n",
            "1 3 2 2 5 6 7 4 5 9\n",
            "1 2 1 1 2 1 1 0 1 0 0 0 0 0 0 0 0 0 0 0 0 0 0 "
          ]
        }
      ]
    },
    {
      "cell_type": "markdown",
      "metadata": {
        "id": "yua90DthIVZE"
      },
      "source": [
        "## 문제 6093\n",
        "\n",
        "이상한 출석 번호 부르기2"
      ]
    },
    {
      "cell_type": "code",
      "metadata": {
        "colab": {
          "base_uri": "https://localhost:8080/"
        },
        "id": "Yik9dUrfX-oc",
        "outputId": "23ef4506-295c-417a-acc7-38ffbfb1be3d"
      },
      "source": [
        "n=int(input())\n",
        "a=input().split()\n",
        "d=[]\n",
        "for i in range(n):\n",
        "  d.append(a[-i-1])\n",
        "\n",
        "for j in range(len(d)):\n",
        "  print(d[j],end=' ')  \n"
      ],
      "execution_count": null,
      "outputs": [
        {
          "output_type": "stream",
          "name": "stdout",
          "text": [
            "10\n",
            "10 4 2 3 6 6 7 9 8 5\n",
            "58976632410"
          ]
        }
      ]
    },
    {
      "cell_type": "markdown",
      "metadata": {
        "id": "AwHnlhN9YCmI"
      },
      "source": [
        "## 문제 6094\n",
        "\n",
        "이상한 출석 번호 부르기3"
      ]
    },
    {
      "cell_type": "code",
      "metadata": {
        "colab": {
          "base_uri": "https://localhost:8080/"
        },
        "id": "Tc_CA13fYCu3",
        "outputId": "913e2077-cdd7-4015-9f56-f8f6a4f7b36c"
      },
      "source": [
        "n=int(input())\n",
        "a=input().split()\n",
        "b=int(a[0])\n",
        "for i in range(n-1):\n",
        "  if b >int(a[i+1]):\n",
        "    b=int(a[i+1])\n",
        "\n",
        "print (b)"
      ],
      "execution_count": null,
      "outputs": [
        {
          "name": "stdout",
          "output_type": "stream",
          "text": [
            "10\n",
            "10 4 2 3 6 6 7 9 8 5\n"
          ]
        }
      ]
    },
    {
      "cell_type": "markdown",
      "metadata": {
        "id": "TqB_eOhsYCxa"
      },
      "source": [
        "## 문제 6095\n",
        "\n",
        "바둑판에 흰 돌 놓기"
      ]
    },
    {
      "cell_type": "code",
      "metadata": {
        "colab": {
          "base_uri": "https://localhost:8080/"
        },
        "id": "otngpgcQYCz7",
        "outputId": "8e8cd003-e2d2-4710-fb6a-264bb941ad05"
      },
      "source": [
        "d=[]\n",
        "for i in range(19):\n",
        "  d.append([])\n",
        "  for j in range(19):\n",
        "    d[i].append(0)\n",
        "\n",
        "n=int(input())\n",
        "for i in range(n):\n",
        "  x,y=input().split()\n",
        "  x=int(x)\n",
        "  y=int(y)\n",
        "  d[x-1][y-1]=1\n",
        "\n",
        "for x in range(19):\n",
        "  for y in range(19):\n",
        "    if (y == (19-1)):\n",
        "      endd=\"\\n\"\n",
        "    else:\n",
        "      endd=\" \"\n",
        "    print(d[x][y],end=endd)\n",
        "          \n",
        "  \n",
        "  \n"
      ],
      "execution_count": null,
      "outputs": [
        {
          "output_type": "stream",
          "name": "stdout",
          "text": [
            "5\n",
            "1 1 \n",
            "2 2 \n",
            "3 3 \n",
            "4 4\n",
            "5 5\n",
            "1 0 0 0 0 0 0 0 0 0 0 0 0 0 0 0 0 0 0\n",
            "0 1 0 0 0 0 0 0 0 0 0 0 0 0 0 0 0 0 0\n",
            "0 0 1 0 0 0 0 0 0 0 0 0 0 0 0 0 0 0 0\n",
            "0 0 0 1 0 0 0 0 0 0 0 0 0 0 0 0 0 0 0\n",
            "0 0 0 0 1 0 0 0 0 0 0 0 0 0 0 0 0 0 0\n",
            "0 0 0 0 0 0 0 0 0 0 0 0 0 0 0 0 0 0 0\n",
            "0 0 0 0 0 0 0 0 0 0 0 0 0 0 0 0 0 0 0\n",
            "0 0 0 0 0 0 0 0 0 0 0 0 0 0 0 0 0 0 0\n",
            "0 0 0 0 0 0 0 0 0 0 0 0 0 0 0 0 0 0 0\n",
            "0 0 0 0 0 0 0 0 0 0 0 0 0 0 0 0 0 0 0\n",
            "0 0 0 0 0 0 0 0 0 0 0 0 0 0 0 0 0 0 0\n",
            "0 0 0 0 0 0 0 0 0 0 0 0 0 0 0 0 0 0 0\n",
            "0 0 0 0 0 0 0 0 0 0 0 0 0 0 0 0 0 0 0\n",
            "0 0 0 0 0 0 0 0 0 0 0 0 0 0 0 0 0 0 0\n",
            "0 0 0 0 0 0 0 0 0 0 0 0 0 0 0 0 0 0 0\n",
            "0 0 0 0 0 0 0 0 0 0 0 0 0 0 0 0 0 0 0\n",
            "0 0 0 0 0 0 0 0 0 0 0 0 0 0 0 0 0 0 0\n",
            "0 0 0 0 0 0 0 0 0 0 0 0 0 0 0 0 0 0 0\n",
            "0 0 0 0 0 0 0 0 0 0 0 0 0 0 0 0 0 0 0\n"
          ]
        }
      ]
    },
    {
      "cell_type": "markdown",
      "metadata": {
        "id": "ndAeLni6tVuk"
      },
      "source": [
        "## 문제 6096\n",
        "\n",
        "바둑알 십자 뒤집기"
      ]
    },
    {
      "cell_type": "code",
      "metadata": {
        "colab": {
          "base_uri": "https://localhost:8080/"
        },
        "id": "q8u1FeH2YC8p",
        "outputId": "f74d66dc-4fd2-4358-9816-ed91aced9e25"
      },
      "source": [
        "d=[]\n",
        "k=19\n",
        "for i in range(k):\n",
        "  d.append([])\n",
        "  for j in range(k):\n",
        "    d[i].append(0)\n",
        "##\n",
        "for i in range(k):\n",
        "  a=input().split()\n",
        "  for j in range(k):\n",
        "    d[i][j]=int(a[j])\n",
        "###\n",
        "n=int(input())\n",
        "for z in range(n):\n",
        "  z1,z2=input().split()\n",
        "  z1=int(z1)\n",
        "  z2=int(z2)\n",
        "\n",
        "  for x in range(k):\n",
        "    d[x][z2-1]=int(not bool(d[x][z2-1]))\n",
        "\n",
        "    for y in range(k):\n",
        "      d[z1-1][y]=int(not bool(d[z1-1][y]))\n",
        "\n",
        "for x in range(k):\n",
        "  for y in range(k):\n",
        "    print(d[x][y],end=' ')\n",
        "  print(end='\\n')"
      ],
      "execution_count": null,
      "outputs": [
        {
          "name": "stdout",
          "output_type": "stream",
          "text": [
            "0 0 0 0 0 0 0 0 0 1 0 1 0 0 0 0 0 0 0\n",
            "0 0 0 0 0 0 0 0 0 1 0 1 0 0 0 0 0 0 0\n",
            "0 0 0 0 0 0 0 0 0 1 0 1 0 0 0 0 0 0 0\n",
            "0 0 0 0 0 0 0 0 0 1 0 1 0 0 0 0 0 0 0\n",
            "0 0 0 0 0 0 0 0 0 1 0 1 0 0 0 0 0 0 0\n",
            "0 0 0 0 0 0 0 0 0 1 0 1 0 0 0 0 0 0 0\n",
            "0 0 0 0 0 0 0 0 0 1 0 1 0 0 0 0 0 0 0\n",
            "0 0 0 0 0 0 0 0 0 1 0 1 0 0 0 0 0 0 0\n",
            "0 0 0 0 0 0 0 0 0 1 0 1 0 0 0 0 0 0 0\n",
            "1 1 1 1 1 1 1 1 1 1 1 1 1 1 1 1 1 1 1\n",
            "0 0 0 0 0 0 0 0 0 1 0 1 0 0 0 0 0 0 0\n",
            "1 1 1 1 1 1 1 1 1 1 1 1 1 1 1 1 1 1 1\n",
            "0 0 0 0 0 0 0 0 0 1 0 1 0 0 0 0 0 0 0\n",
            "0 0 0 0 0 0 0 0 0 1 0 1 0 0 0 0 0 0 0\n",
            "0 0 0 0 0 0 0 0 0 1 0 1 0 0 0 0 0 0 0\n",
            "0 0 0 0 0 0 0 0 0 1 0 1 0 0 0 0 0 0 0\n",
            "0 0 0 0 0 0 0 0 0 1 0 1 0 0 0 0 0 0 0\n",
            "0 0 0 0 0 0 0 0 0 1 0 1 0 0 0 0 0 0 0\n",
            "0 0 0 0 0 0 0 0 0 1 0 1 0 0 0 0 0 0 0\n",
            "2\n",
            "10 10\n",
            "12 12\n"
          ]
        }
      ]
    },
    {
      "cell_type": "markdown",
      "metadata": {
        "id": "dand0VdR9qH9"
      },
      "source": [
        "## 문제 6097\n",
        "\n",
        "설탕과자 뽑기"
      ]
    },
    {
      "cell_type": "code",
      "metadata": {
        "colab": {
          "base_uri": "https://localhost:8080/"
        },
        "id": "RirH0dYg9p-5",
        "outputId": "48225f5d-7e95-4d14-b0d0-e1568a7291d8"
      },
      "source": [
        "h,w=input().split()\n",
        "h,w=int(h),int(w)\n",
        "n=input()#막대갯수\n",
        "n=int(n)\n",
        "\n",
        "m=[]\n",
        "for i in range(h):\n",
        "  m.append([])\n",
        "  for j in range(w):\n",
        "    m[i].append(0)\n",
        "\n",
        "#l= 막대 길이, d=막대 방향, x,y시작 좌표\n",
        "for k in range(1,n+1):\n",
        "  l,d,x,y=input().split()\n",
        "  l=int(l)\n",
        "  d=int(d)\n",
        "  x=int(x)\n",
        "  y=int(y)\n",
        "  \n",
        "  if d==1 :\n",
        "    for i in range(x-1,(x+l)-1):\n",
        "      m[i][y-1]=1\n",
        "      \n",
        "  if d==0 :\n",
        "    for j in range(y-1,(y+l)-1):\n",
        "      m[x-1][j]=1\n",
        "\n",
        "for x in range(h):\n",
        "  for y in range(w):\n",
        "    print(m[x][y],end=' ')\n",
        "  print(end='\\n')"
      ],
      "execution_count": null,
      "outputs": [
        {
          "output_type": "stream",
          "name": "stdout",
          "text": [
            "5 5\n",
            "3\n",
            "2 0 1 1\n",
            "3 1 2 3\n",
            "4 1 2 5\n",
            "1 1 0 0 0 \n",
            "0 0 1 0 1 \n",
            "0 0 1 0 1 \n",
            "0 0 1 0 1 \n",
            "0 0 0 0 1 \n"
          ]
        }
      ]
    },
    {
      "cell_type": "markdown",
      "metadata": {
        "id": "MhgY0cZB-aSD"
      },
      "source": [
        "##문제 6098 \n",
        "성실한 개미"
      ]
    },
    {
      "cell_type": "code",
      "metadata": {
        "colab": {
          "base_uri": "https://localhost:8080/"
        },
        "id": "CYkjrxZA9p6Y",
        "outputId": "7c4dc606-8385-4b40-be5f-47f1cd484ef8"
      },
      "source": [
        "x=10;y=10\n",
        "m=[]\n",
        "for i in range(y):\n",
        "  m.append(list(map(int,input().split())))\n",
        "  #m_r=list(map(int,input().split()))\n",
        "  #m.append(m_r)\n",
        "\n",
        "xp=1;yp=1\n",
        "while (True):\n",
        "    \n",
        "  if m[yp][xp]==0:\n",
        "    m[yp][xp]=9\n",
        "  elif m[yp][xp]==2:\n",
        "    m[yp][xp]=9\n",
        "    break\n",
        "  else:\n",
        "    break\n",
        "\n",
        "  if m[yp][xp+1]!=1 :\n",
        "    xp+=1    \n",
        "  else :\n",
        "    yp+=1\n",
        "\n",
        "s=''\n",
        "for i in range(y):\n",
        "  for j in range(x):\n",
        "    s+= (str(m[i][j])+' ')\n",
        "  s+=('\\n')\n",
        "print(s)"
      ],
      "execution_count": null,
      "outputs": [
        {
          "output_type": "stream",
          "name": "stdout",
          "text": [
            "1 1 1 1 1 1 1 1 1 1\n",
            "1 0 0 1 0 0 0 0 0 1\n",
            "1 0 0 1 1 1 0 0 0 1\n",
            "1 0 0 0 0 0 0 1 0 1\n",
            "1 0 0 0 0 0 0 1 0 1\n",
            "1 0 0 0 0 1 0 1 0 1\n",
            "1 0 0 0 0 1 2 1 0 1\n",
            "1 0 0 0 0 1 0 0 0 1\n",
            "1 0 0 0 0 0 0 0 0 1\n",
            "1 1 1 1 1 1 1 1 1 1\n",
            "1 1 1 1 1 1 1 1 1 1 \n",
            "1 9 9 1 0 0 0 0 0 1 \n",
            "1 0 9 1 1 1 0 0 0 1 \n",
            "1 0 9 9 9 9 9 1 0 1 \n",
            "1 0 0 0 0 0 9 1 0 1 \n",
            "1 0 0 0 0 1 9 1 0 1 \n",
            "1 0 0 0 0 1 9 1 0 1 \n",
            "1 0 0 0 0 1 0 0 0 1 \n",
            "1 0 0 0 0 0 0 0 0 1 \n",
            "1 1 1 1 1 1 1 1 1 1 \n"
          ]
        }
      ]
    }
  ]
}